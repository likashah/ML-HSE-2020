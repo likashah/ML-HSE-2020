{
 "cells": [
  {
   "cell_type": "markdown",
   "metadata": {},
   "source": [
    "## Задание 1. Реализация градиентного спуска (3.5 балла)"
   ]
  },
  {
   "cell_type": "markdown",
   "metadata": {},
   "source": [
    "Функция потерь MSE:\n",
    "$$ Q(w) = \\dfrac{1}{\\ell} \\sum\\limits_{i=1}^{\\ell} (a_w(x_i) - y_i)^2 $$"
   ]
  },
  {
   "cell_type": "code",
   "execution_count": 1,
   "metadata": {},
   "outputs": [],
   "source": [
    "import numpy as np\n",
    "import warnings\n",
    "import time\n",
    "#warnings.filterwarnings('ignore')\n",
    "\n",
    "s0_default: float = 1\n",
    "p_default: float = 0.5\n",
    "\n",
    "batch_size_default: int = 1\n",
    "\n",
    "alpha_default: float = 0.1\n",
    "eps_default: float = 1e-8\n",
    "\n",
    "mu_default = 1e-2\n",
    "\n",
    "tolerance_default: float = 1e-3\n",
    "max_iter_default: int = 1000\n",
    "\n",
    "class BaseDescent:\n",
    "    \"\"\"\n",
    "    A base class and examples for all functions\n",
    "    \"\"\"\n",
    "\n",
    "    def __init__(self):\n",
    "        self.w = None\n",
    "\n",
    "    def step(self, X: np.ndarray, y: np.ndarray, iteration: int) -> np.ndarray:\n",
    "        \"\"\"\n",
    "        Descent step\n",
    "        :param iteration: iteration number\n",
    "        :param X: objects' features\n",
    "        :param y: objects' targets\n",
    "        :return: difference between weights\n",
    "        \"\"\"\n",
    "        return self.update_weights(self.calc_gradient(X, y), iteration)\n",
    "\n",
    "    def update_weights(self, gradient: np.ndarray, iteration: int) -> np.ndarray:\n",
    "        \"\"\"\n",
    "        Example for update_weights function\n",
    "        :param iteration: iteration number\n",
    "        :param gradient: gradient\n",
    "        :return: weight difference: np.ndarray\n",
    "        \"\"\"\n",
    "        pass\n",
    "\n",
    "    def calc_gradient(self, X: np.ndarray, y: np.ndarray) -> np.ndarray:\n",
    "        \"\"\"\n",
    "        Example for calc_gradient function\n",
    "        :param X: objects' features\n",
    "        :param y: objects' targets\n",
    "        :return: gradient: np.ndarray\n",
    "        \"\"\"\n",
    "        pass\n",
    "\n",
    "\n",
    "class GradientDescent(BaseDescent):\n",
    "    \"\"\"\n",
    "    Full gradient descent class\n",
    "    \"\"\"\n",
    "\n",
    "    def __init__(self, w0: np.ndarray, lambda_: float, s0: float = s0_default, p: float = p_default):\n",
    "        \"\"\"\n",
    "        :param w0: weight initialization\n",
    "        :param lambda_: learning rate parameter (float)\n",
    "        :param s0: learning rate parameter (float)\n",
    "        :param p: learning rate parameter (float)\n",
    "        \"\"\"\n",
    "        super().__init__()\n",
    "        self.eta = lambda k: lambda_ * (s0 / (s0 + k)) ** p\n",
    "        self.w = np.copy(w0)\n",
    "        \n",
    "    def update_weights(self, gradient: np.ndarray, iteration: int) -> np.ndarray:\n",
    "        \"\"\"\n",
    "        Changing weights with respect to gradient\n",
    "        :param iteration: iteration number\n",
    "        :param gradient: gradient\n",
    "        :return: weight difference: np.ndarray\n",
    "        \"\"\"\n",
    "        if iteration >= 1:\n",
    "            self.w -= np.dot(self.eta(iteration), gradient)\n",
    "        \n",
    "        return self.w\n",
    "    \n",
    "    def calc_gradient(self, X: np.ndarray, y: np.ndarray) -> np.ndarray:\n",
    "        \"\"\"\n",
    "        Getting objects, calculating gradient at point w\n",
    "        :param X: objects' features\n",
    "        :param y: objects' targets\n",
    "        :return: gradient: np.ndarray\n",
    "        \"\"\"\n",
    "        gradient = 2 * np.dot(X.T, np.dot(X, self.w) - y)/y.shape[0]\n",
    "        \n",
    "        return gradient\n",
    "\n",
    "\n",
    "class StochasticDescent(BaseDescent):\n",
    "    \"\"\"\n",
    "    Stochastic gradient descent class\n",
    "    \"\"\"\n",
    "\n",
    "    def __init__(self, w0: np.ndarray, lambda_: float, s0: float = s0_default, p: float = p_default,\n",
    "                 batch_size: int = batch_size_default):\n",
    "        \"\"\"\n",
    "        :param w0: weight initialization\n",
    "        :param lambda_: learning rate parameter (float)\n",
    "        :param s0: learning rate parameter (float)\n",
    "        :param p: learning rate parameter (float)\n",
    "        :param batch_size: batch size (int)\n",
    "        \"\"\"\n",
    "        super().__init__()\n",
    "        self.eta = lambda k: lambda_ * (s0 / (s0 + k)) ** p\n",
    "        self.batch_size = batch_size\n",
    "        self.w = np.copy(w0)\n",
    "\n",
    "    def update_weights(self, gradient: np.ndarray, iteration: int) -> np.ndarray:\n",
    "        \"\"\"\n",
    "        Changing weights with respect to gradient\n",
    "        :param iteration: iteration number\n",
    "        :param gradient: gradient estimate\n",
    "        :return: weight difference: np.ndarray\n",
    "        \"\"\"\n",
    "        if iteration >= 1:\n",
    "            self.w -= np.dot(self.eta(iteration), gradient)\n",
    "        \n",
    "        return self.w\n",
    "\n",
    "    def calc_gradient(self, X: np.ndarray, y: np.ndarray) -> np.ndarray:\n",
    "        \"\"\"\n",
    "        Getting objects, calculating gradient at point w\n",
    "        :param X: objects' features\n",
    "        :param y: objects' targets\n",
    "        :return: gradient: np.ndarray\n",
    "        \"\"\"\n",
    "        sample = np.random.randint(y.shape[0], size=self.batch_size)\n",
    "        gradient = 2 * np.dot(X[sample].T, np.dot(X[sample], self.w) - y[sample])/self.batch_size\n",
    "        \n",
    "        return gradient\n",
    "\n",
    "\n",
    "class MomentumDescent(BaseDescent):\n",
    "    \"\"\"\n",
    "    Momentum gradient descent class\n",
    "    \"\"\"\n",
    "\n",
    "    def __init__(self, w0: np.ndarray, lambda_: float, alpha: float = alpha_default, s0: float = s0_default,\n",
    "                 p: float = p_default):\n",
    "        \"\"\"\n",
    "        :param w0: weight initialization\n",
    "        :param lambda_: learning rate parameter (float)\n",
    "        :param alpha: momentum coefficient\n",
    "        :param s0: learning rate parameter (float)\n",
    "        :param p: learning rate parameter (float)\n",
    "        \"\"\"\n",
    "        super().__init__()\n",
    "        self.eta = lambda k: lambda_ * (s0 / (s0 + k)) ** p\n",
    "        self.alpha = alpha\n",
    "        self.w = np.copy(w0)\n",
    "        self.h = 0\n",
    "\n",
    "    def update_weights(self, gradient: np.ndarray, iteration: int) -> np.ndarray:\n",
    "        \"\"\"\n",
    "        Changing weights with respect to gradient\n",
    "        :param iteration: iteration number\n",
    "        :param gradient: gradient estimate\n",
    "        :return: weight difference: np.ndarray\n",
    "        \"\"\"\n",
    "        if iteration >= 1:\n",
    "            self.h = self.alpha * self.h + np.dot(self.eta(iteration), gradient)\n",
    "            self.w -= self.h\n",
    "        \n",
    "        return self.w\n",
    "\n",
    "    def calc_gradient(self, X: np.ndarray, y: np.ndarray) -> np.ndarray:\n",
    "        \"\"\"\n",
    "        Getting objects, calculating gradient at point w\n",
    "        :param X: objects' features\n",
    "        :param y: objects' targets\n",
    "        :return: gradient: np.ndarray\n",
    "        \"\"\"\n",
    "        gradient = 2 * np.dot(X.T, np.dot(X, self.w) - y)/y.shape[0]\n",
    "        \n",
    "        return gradient\n",
    "\n",
    "\n",
    "class Adagrad(BaseDescent):\n",
    "    \"\"\"\n",
    "    Adaptive gradient algorithm class\n",
    "    \"\"\"\n",
    "\n",
    "    def __init__(self, w0: np.ndarray, lambda_: float, eps: float = eps_default, s0: float = s0_default,\n",
    "                 p: float = p_default):\n",
    "        \"\"\"\n",
    "        :param w0: weight initialization\n",
    "        :param lambda_: learning rate parameter (float)\n",
    "        :param eps: smoothing term (float)\n",
    "        :param s0: learning rate parameter (float)\n",
    "        :param p: learning rate parameter (float)\n",
    "        \"\"\"\n",
    "        super().__init__()\n",
    "        self.eta = lambda k: lambda_ * (s0 / (s0 + k)) ** p\n",
    "        self.eps = eps\n",
    "        self.w = np.copy(w0)\n",
    "        self.g = 0\n",
    "\n",
    "    def update_weights(self, gradient: np.ndarray, iteration: int) -> np.ndarray:\n",
    "        \"\"\"\n",
    "        Changing weights with respect to gradient\n",
    "        :param iteration: iteration number\n",
    "        :param gradient: gradient estimate\n",
    "        :return: weight difference: np.ndarray\n",
    "        \"\"\"\n",
    "        if iteration >= 1:\n",
    "            self.g += gradient ** 2\n",
    "            self.w -= np.dot(np.dot(self.eta(iteration), gradient), (self.eps + self.g) ** (-0.5))\n",
    "        \n",
    "        return self.w\n",
    "\n",
    "    def calc_gradient(self, X: np.ndarray, y: np.ndarray) -> np.ndarray:\n",
    "        \"\"\"\n",
    "        Getting objects, calculating gradient at point w\n",
    "        :param X: objects' features\n",
    "        :param y: objects' targets\n",
    "        :return: gradient: np.ndarray\n",
    "        \"\"\"\n",
    "        gradient = 2 * np.dot(X.T, np.dot(X, self.w) - y)/y.shape[0]\n",
    "        \n",
    "        return gradient\n"
   ]
  },
  {
   "cell_type": "code",
   "execution_count": 2,
   "metadata": {},
   "outputs": [],
   "source": [
    "# Проведем тесты для бОльшего числа объектов и признаков:\n",
    "num_objects = 10000\n",
    "dimension = 100\n",
    "\n",
    "X = np.random.rand(num_objects, dimension)\n",
    "y = np.random.rand(num_objects)\n",
    "\n",
    "lambda_ = 1e-2\n",
    "max_iter = 10\n",
    "tolerance = 0\n",
    "\n",
    "w0 = np.zeros(dimension)"
   ]
  },
  {
   "cell_type": "markdown",
   "metadata": {},
   "source": [
    "**Задание 1.1. (0.5 балла)** Полный градиентный спуск **GradientDescent**"
   ]
  },
  {
   "cell_type": "code",
   "execution_count": 3,
   "metadata": {},
   "outputs": [
    {
     "name": "stdout",
     "output_type": "stream",
     "text": [
      "--- 0.0016930103302001953 seconds for GradientDescent ---\n",
      "\n",
      "[0.00353505 0.00353044 0.00353154 0.0035449  0.00355254 0.00354819\n",
      " 0.0035394  0.00353957 0.00358641 0.00353635 0.00356893 0.00353531\n",
      " 0.00355137 0.00355177 0.00356326 0.00358135 0.00351173 0.00352579\n",
      " 0.00357143 0.00358426 0.00354855 0.00353472 0.00357611 0.0035429\n",
      " 0.00354692 0.00358332 0.00355547 0.00356676 0.00353509 0.00352724\n",
      " 0.00354615 0.00354995 0.0035282  0.00355179 0.00358577 0.00352946\n",
      " 0.00350391 0.0035646  0.00351708 0.00357037 0.00352821 0.00353854\n",
      " 0.00355127 0.00353931 0.00360058 0.00350618 0.00355175 0.00353733\n",
      " 0.00350358 0.00355909 0.00355325 0.00357837 0.00355904 0.00354581\n",
      " 0.00357776 0.00356796 0.0035791  0.00354758 0.00356816 0.00357608\n",
      " 0.00353815 0.00353034 0.00357044 0.00350893 0.00355064 0.00349752\n",
      " 0.0035277  0.00359319 0.00355552 0.00356278 0.00357681 0.00353758\n",
      " 0.00356074 0.00355415 0.00350405 0.00357534 0.00355543 0.00354858\n",
      " 0.00357354 0.00351964 0.00356083 0.0035549  0.00351827 0.0035403\n",
      " 0.00357051 0.00355821 0.00358433 0.00353347 0.00356022 0.00353667\n",
      " 0.00356553 0.00360974 0.00355674 0.00357227 0.00355499 0.00352879\n",
      " 0.00351872 0.00358008 0.00356142 0.00354081]\n",
      "[0.00353505 0.00353044 0.00353154 0.0035449  0.00355254 0.00354819\n",
      " 0.0035394  0.00353957 0.00358641 0.00353635 0.00356893 0.00353531\n",
      " 0.00355137 0.00355177 0.00356326 0.00358135 0.00351173 0.00352579\n",
      " 0.00357143 0.00358426 0.00354855 0.00353472 0.00357611 0.0035429\n",
      " 0.00354692 0.00358332 0.00355547 0.00356676 0.00353509 0.00352724\n",
      " 0.00354615 0.00354995 0.0035282  0.00355179 0.00358577 0.00352946\n",
      " 0.00350391 0.0035646  0.00351708 0.00357037 0.00352821 0.00353854\n",
      " 0.00355127 0.00353931 0.00360058 0.00350618 0.00355175 0.00353733\n",
      " 0.00350358 0.00355909 0.00355325 0.00357837 0.00355904 0.00354581\n",
      " 0.00357776 0.00356796 0.0035791  0.00354758 0.00356816 0.00357608\n",
      " 0.00353815 0.00353034 0.00357044 0.00350893 0.00355064 0.00349752\n",
      " 0.0035277  0.00359319 0.00355552 0.00356278 0.00357681 0.00353758\n",
      " 0.00356074 0.00355415 0.00350405 0.00357534 0.00355543 0.00354858\n",
      " 0.00357354 0.00351964 0.00356083 0.0035549  0.00351827 0.0035403\n",
      " 0.00357051 0.00355821 0.00358433 0.00353347 0.00356022 0.00353667\n",
      " 0.00356553 0.00360974 0.00355674 0.00357227 0.00355499 0.00352879\n",
      " 0.00351872 0.00358008 0.00356142 0.00354081]\n"
     ]
    }
   ],
   "source": [
    "# GradientDescent\n",
    "\n",
    "descent = GradientDescent(lambda_ = lambda_, w0 = w0)\n",
    "\n",
    "gradient = descent.calc_gradient(X, y)\n",
    "\n",
    "assert gradient.shape[0] == dimension, 'Gradient failed'\n",
    "\n",
    "diff = descent.step(X, y, 0)\n",
    "\n",
    "assert diff.shape[0] == dimension, 'Weights failed'\n",
    "\n",
    "start_time = time.time()\n",
    "descent.step(X, y, 100)\n",
    "print(\"--- %s seconds for GradientDescent ---\\n\" % (time.time() - start_time))\n",
    "\n",
    "\n",
    "\n",
    "#Сверим результаты работы с более прозрачной тестовой функцией:\n",
    "def my_test_desc(X, y, w0, iteration):\n",
    "    w=w0\n",
    "    eta=lambda k: lambda_ * (s0_default / (s0_default + k)) ** p_default\n",
    "\n",
    "    for i in range(1,iteration+1):\n",
    "        gradient = 2 * np.dot(X.T, np.dot(X, w) - y)/y.shape[0]\n",
    "        w -= eta(i) * gradient\n",
    "\n",
    "    return w\n",
    "\n",
    "\n",
    "descent = GradientDescent(lambda_ = lambda_, w0 = w0)\n",
    "\n",
    "start_time = time.time()\n",
    "print(descent.step(X, y, 1))\n",
    "\n",
    "start_time = time.time()\n",
    "print(my_test_desc(X, y, w0, iteration=1))\n"
   ]
  },
  {
   "cell_type": "markdown",
   "metadata": {},
   "source": [
    "**Задание 1.2. (1 балл)** Стохастический градиентный спуск **StochasticDescent**"
   ]
  },
  {
   "cell_type": "code",
   "execution_count": 4,
   "metadata": {},
   "outputs": [
    {
     "name": "stdout",
     "output_type": "stream",
     "text": [
      "--- 0.0001850128173828125 seconds for StochasticDescent ---\n"
     ]
    }
   ],
   "source": [
    "# StochasticDescent\n",
    "\n",
    "descent = StochasticDescent(lambda_ = lambda_, w0 = w0)\n",
    "\n",
    "gradient = descent.calc_gradient(X, y)\n",
    "\n",
    "assert gradient.shape[0] == dimension, 'Gradient failed'\n",
    "\n",
    "diff = descent.step(X, y, 0)\n",
    "\n",
    "assert diff.shape[0] == dimension, 'Weights failed'\n",
    "\n",
    "start_time = time.time()\n",
    "descent.step(X, y, 100)\n",
    "print(\"--- %s seconds for StochasticDescent ---\" % (time.time() - start_time))"
   ]
  },
  {
   "cell_type": "markdown",
   "metadata": {},
   "source": [
    "**Задание 1.3. (1 балл)** Метод Momentum **MomentumDescent**"
   ]
  },
  {
   "cell_type": "code",
   "execution_count": 5,
   "metadata": {},
   "outputs": [
    {
     "name": "stdout",
     "output_type": "stream",
     "text": [
      "--- 0.010369062423706055 seconds for MomentumDescent ---\n"
     ]
    }
   ],
   "source": [
    "# MomentumDescent\n",
    "\n",
    "descent = MomentumDescent(lambda_ = lambda_, w0 = w0)\n",
    "\n",
    "gradient = descent.calc_gradient(X, y)\n",
    "\n",
    "assert gradient.shape[0] == dimension, 'Gradient failed'\n",
    "\n",
    "diff = descent.step(X, y, 0)\n",
    "\n",
    "assert diff.shape[0] == dimension, 'Weights failed'\n",
    "\n",
    "start_time = time.time()\n",
    "descent.step(X, y, 100)\n",
    "print(\"--- %s seconds for MomentumDescent ---\" % (time.time() - start_time))"
   ]
  },
  {
   "cell_type": "markdown",
   "metadata": {},
   "source": [
    "**Задание 1.4. (1 балл)** Метод Adaptive gradient algorithm **Adagrad**"
   ]
  },
  {
   "cell_type": "code",
   "execution_count": 6,
   "metadata": {},
   "outputs": [
    {
     "name": "stdout",
     "output_type": "stream",
     "text": [
      "--- 0.0020160675048828125 seconds for Adagrad ---\n"
     ]
    }
   ],
   "source": [
    "# Adagrad\n",
    "\n",
    "descent = Adagrad(lambda_ = lambda_, w0 = w0)\n",
    "\n",
    "gradient = descent.calc_gradient(X, y)\n",
    "\n",
    "assert gradient.shape[0] == dimension, 'Gradient failed'\n",
    "\n",
    "diff = descent.step(X, y, 0)\n",
    "\n",
    "assert diff.shape[0] == dimension, 'Weights failed'\n",
    "\n",
    "start_time = time.time()\n",
    "descent.step(X, y, 100)\n",
    "print(\"--- %s seconds for Adagrad ---\" % (time.time() - start_time))"
   ]
  },
  {
   "cell_type": "markdown",
   "metadata": {},
   "source": [
    "## Задание 2. Реализация линейной регресии (1.5 балла)"
   ]
  },
  {
   "cell_type": "code",
   "execution_count": 7,
   "metadata": {},
   "outputs": [],
   "source": [
    "class LinearRegression:\n",
    "    \"\"\"\n",
    "    Linear regression class\n",
    "    \"\"\"\n",
    "\n",
    "    def __init__(self, descent, tolerance: float = tolerance_default, max_iter: int = max_iter_default):\n",
    "        \"\"\"\n",
    "        :param descent: Descent class\n",
    "        :param tolerance: float stopping criterion for square of euclidean norm of weight difference\n",
    "        :param max_iter: int stopping criterion for iterations\n",
    "        \"\"\"\n",
    "        self.descent = descent\n",
    "        self.tolerance = tolerance\n",
    "        self.max_iter = max_iter\n",
    "        self.loss_history = [] # Значения функции потерь до каждого шага, начиная с нулевого\n",
    "        \n",
    "    def fit(self, X: np.ndarray, y: np.ndarray): #-> LinearRegression:\n",
    "        \"\"\"\n",
    "        Getting objects, fitting descent weights\n",
    "        :param X: objects' features\n",
    "        :param y: objects' target\n",
    "        :return: self\n",
    "        \"\"\"\n",
    "        # Инициализируем вектор весов\n",
    "        self.w = np.zeros(X.shape[1])\n",
    "        # Инициализируем расстояние между векторами весов на соседних итерациях\n",
    "        weight_dist = np.inf\n",
    "        # Счетчик итераций\n",
    "        iter_num = 0\n",
    "\n",
    "        while weight_dist > self.tolerance and iter_num < self.max_iter:\n",
    "            iter_num += 1\n",
    "            new_w = np.append(np.array([]), descent.step(X, y, iter_num))\n",
    "            weight_dist = np.sqrt(((self.w - new_w)**2).sum())\n",
    "            self.w = new_w\n",
    "            self.calc_loss(X, y)\n",
    "            \n",
    "        return self\n",
    "\n",
    "    def predict(self, X: np.ndarray) -> np.ndarray:\n",
    "        \"\"\"\n",
    "        Getting objects, predicting targets\n",
    "        :param X: objects' features\n",
    "        :return: predicted targets\n",
    "        \"\"\"\n",
    "        return np.dot(X, self.w)\n",
    "\n",
    "    def calc_loss(self, X: np.ndarray, y: np.ndarray) -> None:\n",
    "        \"\"\"\n",
    "        Getting objects, calculating loss\n",
    "        :param X: objects' features\n",
    "        :param y: objects' target\n",
    "        \"\"\"\n",
    "        self.loss_history.append(np.sum((np.dot(X, self.w) - y)**2)/y.shape[0])\n",
    "        "
   ]
  },
  {
   "cell_type": "code",
   "execution_count": 8,
   "metadata": {},
   "outputs": [],
   "source": [
    "w0 = np.zeros(dimension)\n",
    "\n",
    "regression = LinearRegression(\n",
    "    descent = StochasticDescent(lambda_ = lambda_, w0 = w0, batch_size = 2),\n",
    "    tolerance = tolerance,\n",
    "    max_iter = max_iter\n",
    ")\n",
    "\n",
    "regression.fit(X, y)\n",
    "\n",
    "assert len(regression.loss_history) == max_iter, 'Loss history failed'\n",
    "\n",
    "prediction = regression.predict(X)\n",
    "\n",
    "assert prediction.shape[0] == num_objects, 'Predict failed'"
   ]
  },
  {
   "cell_type": "code",
   "execution_count": 9,
   "metadata": {},
   "outputs": [
    {
     "data": {
      "text/plain": [
       "array([0.50464704, 0.51560209, 0.4811209 , ..., 0.53077855, 0.52531193,\n",
       "       0.51799994])"
      ]
     },
     "execution_count": 9,
     "metadata": {},
     "output_type": "execute_result"
    }
   ],
   "source": [
    "reg = regression.fit(X, y)\n",
    "y_train_pred = reg.predict(X)\n",
    "y_train_pred"
   ]
  },
  {
   "cell_type": "markdown",
   "metadata": {},
   "source": [
    "Проверим, насколько похожи результаты по сравнению линейной регрессией в sklearn:"
   ]
  },
  {
   "cell_type": "code",
   "execution_count": 10,
   "metadata": {},
   "outputs": [
    {
     "data": {
      "text/plain": [
       "array([0.52560197, 0.50788668, 0.55370621, ..., 0.48193753, 0.4782532 ,\n",
       "       0.50834824])"
      ]
     },
     "execution_count": 10,
     "metadata": {},
     "output_type": "execute_result"
    }
   ],
   "source": [
    "from sklearn.linear_model import LinearRegression as LR\n",
    "reg2 = LR().fit(X, y)\n",
    "y_train_pred2 = reg2.predict(X)\n",
    "y_train_pred2"
   ]
  },
  {
   "cell_type": "markdown",
   "metadata": {},
   "source": [
    "## Задание 4. Работа с данными (1 балл)"
   ]
  },
  {
   "cell_type": "code",
   "execution_count": 11,
   "metadata": {},
   "outputs": [
    {
     "data": {
      "text/html": [
       "<div>\n",
       "<style scoped>\n",
       "    .dataframe tbody tr th:only-of-type {\n",
       "        vertical-align: middle;\n",
       "    }\n",
       "\n",
       "    .dataframe tbody tr th {\n",
       "        vertical-align: top;\n",
       "    }\n",
       "\n",
       "    .dataframe thead th {\n",
       "        text-align: right;\n",
       "    }\n",
       "</style>\n",
       "<table border=\"1\" class=\"dataframe\">\n",
       "  <thead>\n",
       "    <tr style=\"text-align: right;\">\n",
       "      <th></th>\n",
       "      <th>brand</th>\n",
       "      <th>model</th>\n",
       "      <th>vehicleType</th>\n",
       "      <th>gearbox</th>\n",
       "      <th>fuelType</th>\n",
       "      <th>notRepairedDamage</th>\n",
       "      <th>powerPS</th>\n",
       "      <th>kilometer</th>\n",
       "      <th>yearOfRegistration</th>\n",
       "      <th>monthOfRegistration</th>\n",
       "      <th>dateCreated</th>\n",
       "      <th>lastSeen</th>\n",
       "      <th>postalCode</th>\n",
       "      <th>price</th>\n",
       "    </tr>\n",
       "  </thead>\n",
       "  <tbody>\n",
       "    <tr>\n",
       "      <th>0</th>\n",
       "      <td>volkswagen</td>\n",
       "      <td>golf</td>\n",
       "      <td>kleinwagen</td>\n",
       "      <td>manuell</td>\n",
       "      <td>benzin</td>\n",
       "      <td>nein</td>\n",
       "      <td>75</td>\n",
       "      <td>150000</td>\n",
       "      <td>2001</td>\n",
       "      <td>6</td>\n",
       "      <td>2016-03-17 00:00:00</td>\n",
       "      <td>2016-03-17 17:40:17</td>\n",
       "      <td>91074</td>\n",
       "      <td>1500</td>\n",
       "    </tr>\n",
       "    <tr>\n",
       "      <th>1</th>\n",
       "      <td>skoda</td>\n",
       "      <td>fabia</td>\n",
       "      <td>kleinwagen</td>\n",
       "      <td>manuell</td>\n",
       "      <td>diesel</td>\n",
       "      <td>nein</td>\n",
       "      <td>69</td>\n",
       "      <td>90000</td>\n",
       "      <td>2008</td>\n",
       "      <td>7</td>\n",
       "      <td>2016-03-31 00:00:00</td>\n",
       "      <td>2016-04-06 10:17:21</td>\n",
       "      <td>60437</td>\n",
       "      <td>3600</td>\n",
       "    </tr>\n",
       "    <tr>\n",
       "      <th>2</th>\n",
       "      <td>bmw</td>\n",
       "      <td>3er</td>\n",
       "      <td>limousine</td>\n",
       "      <td>manuell</td>\n",
       "      <td>benzin</td>\n",
       "      <td>ja</td>\n",
       "      <td>102</td>\n",
       "      <td>150000</td>\n",
       "      <td>1995</td>\n",
       "      <td>10</td>\n",
       "      <td>2016-04-04 00:00:00</td>\n",
       "      <td>2016-04-06 19:17:07</td>\n",
       "      <td>33775</td>\n",
       "      <td>650</td>\n",
       "    </tr>\n",
       "    <tr>\n",
       "      <th>3</th>\n",
       "      <td>peugeot</td>\n",
       "      <td>2_reihe</td>\n",
       "      <td>cabrio</td>\n",
       "      <td>manuell</td>\n",
       "      <td>benzin</td>\n",
       "      <td>nein</td>\n",
       "      <td>109</td>\n",
       "      <td>150000</td>\n",
       "      <td>2004</td>\n",
       "      <td>8</td>\n",
       "      <td>2016-04-01 00:00:00</td>\n",
       "      <td>2016-04-05 18:18:39</td>\n",
       "      <td>67112</td>\n",
       "      <td>2200</td>\n",
       "    </tr>\n",
       "    <tr>\n",
       "      <th>4</th>\n",
       "      <td>mazda</td>\n",
       "      <td>3_reihe</td>\n",
       "      <td>limousine</td>\n",
       "      <td>manuell</td>\n",
       "      <td>benzin</td>\n",
       "      <td>nein</td>\n",
       "      <td>105</td>\n",
       "      <td>150000</td>\n",
       "      <td>2004</td>\n",
       "      <td>12</td>\n",
       "      <td>2016-03-26 00:00:00</td>\n",
       "      <td>2016-04-06 10:45:34</td>\n",
       "      <td>96224</td>\n",
       "      <td>2000</td>\n",
       "    </tr>\n",
       "  </tbody>\n",
       "</table>\n",
       "</div>"
      ],
      "text/plain": [
       "        brand    model vehicleType  gearbox fuelType notRepairedDamage  \\\n",
       "0  volkswagen     golf  kleinwagen  manuell   benzin              nein   \n",
       "1       skoda    fabia  kleinwagen  manuell   diesel              nein   \n",
       "2         bmw      3er   limousine  manuell   benzin                ja   \n",
       "3     peugeot  2_reihe      cabrio  manuell   benzin              nein   \n",
       "4       mazda  3_reihe   limousine  manuell   benzin              nein   \n",
       "\n",
       "   powerPS  kilometer  yearOfRegistration  monthOfRegistration  \\\n",
       "0       75     150000                2001                    6   \n",
       "1       69      90000                2008                    7   \n",
       "2      102     150000                1995                   10   \n",
       "3      109     150000                2004                    8   \n",
       "4      105     150000                2004                   12   \n",
       "\n",
       "           dateCreated             lastSeen  postalCode  price  \n",
       "0  2016-03-17 00:00:00  2016-03-17 17:40:17       91074   1500  \n",
       "1  2016-03-31 00:00:00  2016-04-06 10:17:21       60437   3600  \n",
       "2  2016-04-04 00:00:00  2016-04-06 19:17:07       33775    650  \n",
       "3  2016-04-01 00:00:00  2016-04-05 18:18:39       67112   2200  \n",
       "4  2016-03-26 00:00:00  2016-04-06 10:45:34       96224   2000  "
      ]
     },
     "execution_count": 11,
     "metadata": {},
     "output_type": "execute_result"
    }
   ],
   "source": [
    "import pandas as pd\n",
    "import seaborn as sns\n",
    "import matplotlib.pyplot as plt\n",
    "warnings.simplefilter(\"ignore\")\n",
    "%matplotlib inline\n",
    "\n",
    "df = pd.read_csv('autos.csv')\n",
    "df.head()"
   ]
  },
  {
   "cell_type": "code",
   "execution_count": 12,
   "metadata": {},
   "outputs": [],
   "source": [
    "# Преобразуем даты и время в datetime объекты:\n",
    "df[\"dateCreated\"] = pd.to_datetime(df.dateCreated)\n",
    "df[\"lastSeen\"] = pd.to_datetime(df.lastSeen)\n",
    "\n",
    "# Добавим к нашей выборке новую колонку - логарифм таргета price \n",
    "df['log_price'] = np.log(df.price)\n",
    "df = df.drop(columns = 'price')"
   ]
  },
  {
   "cell_type": "code",
   "execution_count": 13,
   "metadata": {},
   "outputs": [
    {
     "data": {
      "text/plain": [
       "Text(0.5,1,'Распределение логарифма стоимости автомобилей')"
      ]
     },
     "execution_count": 13,
     "metadata": {},
     "output_type": "execute_result"
    },
    {
     "data": {
      "image/png": "[encoded data removed]",
      "text/plain": [
       "<matplotlib.figure.Figure at 0x10a9d11d0>"
      ]
     },
     "metadata": {},
     "output_type": "display_data"
    }
   ],
   "source": [
    "# Нарисуем гистограмму модифицированного таргета по обучающей выборке\n",
    "sns.distplot(df.log_price)\n",
    "plt.title('Распределение логарифма стоимости автомобилей')"
   ]
  },
  {
   "cell_type": "code",
   "execution_count": 14,
   "metadata": {},
   "outputs": [
    {
     "data": {
      "text/plain": [
       "brand                      39\n",
       "model                     250\n",
       "vehicleType                 8\n",
       "gearbox                     2\n",
       "fuelType                    7\n",
       "notRepairedDamage           2\n",
       "powerPS                   496\n",
       "kilometer                  13\n",
       "yearOfRegistration         85\n",
       "monthOfRegistration        13\n",
       "dateCreated               107\n",
       "lastSeen               129878\n",
       "postalCode               8070\n",
       "log_price                4951\n",
       "dtype: int64"
      ]
     },
     "execution_count": 14,
     "metadata": {},
     "output_type": "execute_result"
    }
   ],
   "source": [
    "# Ознакомимся с числом уникальных элементов в каждом из признаков:\n",
    "df.nunique()"
   ]
  },
  {
   "cell_type": "code",
   "execution_count": 15,
   "metadata": {},
   "outputs": [
    {
     "data": {
      "text/plain": [
       "<seaborn.axisgrid.FacetGrid at 0x1a1ae37588>"
      ]
     },
     "execution_count": 15,
     "metadata": {},
     "output_type": "execute_result"
    },
    {
     "data": {
      "image/png": "[encoded data removed]",
      "text/plain": [
       "<matplotlib.figure.Figure at 0x1a1ae55400>"
      ]
     },
     "metadata": {},
     "output_type": "display_data"
    }
   ],
   "source": [
    "# Изучим зависимости нашего таргета от части признаков\n",
    "sns.relplot(data=df, x=\"powerPS\", y=\"log_price\", kind=\"line\", legend=\"full\")"
   ]
  },
  {
   "cell_type": "code",
   "execution_count": 16,
   "metadata": {},
   "outputs": [
    {
     "data": {
      "text/plain": [
       "<seaborn.axisgrid.FacetGrid at 0x10969ae48>"
      ]
     },
     "execution_count": 16,
     "metadata": {},
     "output_type": "execute_result"
    },
    {
     "data": {
      "image/png": "[encoded data removed]",
      "text/plain": [
       "<matplotlib.figure.Figure at 0x1a2f650080>"
      ]
     },
     "metadata": {},
     "output_type": "display_data"
    }
   ],
   "source": [
    "sns.relplot(data=df, x=\"kilometer\", y=\"log_price\", kind=\"line\", legend=\"full\")"
   ]
  },
  {
   "cell_type": "code",
   "execution_count": 17,
   "metadata": {},
   "outputs": [
    {
     "data": {
      "text/plain": [
       "<seaborn.axisgrid.FacetGrid at 0x1a2f650320>"
      ]
     },
     "execution_count": 17,
     "metadata": {},
     "output_type": "execute_result"
    },
    {
     "data": {
      "image/png": "[encoded data removed]",
      "text/plain": [
       "<matplotlib.figure.Figure at 0x1a2f650780>"
      ]
     },
     "metadata": {},
     "output_type": "display_data"
    }
   ],
   "source": [
    "sns.relplot(data=df, x=\"monthOfRegistration\", y=\"log_price\", kind=\"line\", legend=\"full\")"
   ]
  },
  {
   "cell_type": "code",
   "execution_count": 18,
   "metadata": {},
   "outputs": [
    {
     "data": {
      "text/plain": [
       "<seaborn.axisgrid.FacetGrid at 0x1a2f537f98>"
      ]
     },
     "execution_count": 18,
     "metadata": {},
     "output_type": "execute_result"
    },
    {
     "data": {
      "image/png": "[encoded data removed]",
      "text/plain": [
       "<matplotlib.figure.Figure at 0x10969ab38>"
      ]
     },
     "metadata": {},
     "output_type": "display_data"
    }
   ],
   "source": [
    "sns.relplot(data=df, x=\"yearOfRegistration\", y=\"log_price\", kind=\"line\", legend=\"full\")"
   ]
  },
  {
   "cell_type": "code",
   "execution_count": 19,
   "metadata": {},
   "outputs": [
    {
     "data": {
      "text/plain": [
       "<matplotlib.axes._subplots.AxesSubplot at 0x1a2fe94518>"
      ]
     },
     "execution_count": 19,
     "metadata": {},
     "output_type": "execute_result"
    },
    {
     "data": {
      "image/png": "[encoded data removed]",
      "text/plain": [
       "<matplotlib.figure.Figure at 0x1a2f53b630>"
      ]
     },
     "metadata": {},
     "output_type": "display_data"
    }
   ],
   "source": [
    "sns.boxplot(data=df, x=\"log_price\", y=\"vehicleType\", orient=\"h\", palette=\"Set2\")"
   ]
  },
  {
   "cell_type": "code",
   "execution_count": 20,
   "metadata": {},
   "outputs": [
    {
     "data": {
      "text/plain": [
       "<matplotlib.axes._subplots.AxesSubplot at 0x1a2eb8f8d0>"
      ]
     },
     "execution_count": 20,
     "metadata": {},
     "output_type": "execute_result"
    },
    {
     "data": {
      "image/png": "[encoded data removed]",
      "text/plain": [
       "<matplotlib.figure.Figure at 0x1a2ffc62e8>"
      ]
     },
     "metadata": {},
     "output_type": "display_data"
    }
   ],
   "source": [
    "sns.boxplot(data=df, x=\"log_price\", y=\"gearbox\", orient=\"h\", palette=\"Set2\")"
   ]
  },
  {
   "cell_type": "code",
   "execution_count": 21,
   "metadata": {},
   "outputs": [
    {
     "data": {
      "text/plain": [
       "<matplotlib.axes._subplots.AxesSubplot at 0x1a20547160>"
      ]
     },
     "execution_count": 21,
     "metadata": {},
     "output_type": "execute_result"
    },
    {
     "data": {
      "image/png": "[encoded data removed]",
      "text/plain": [
       "<matplotlib.figure.Figure at 0x1a2fe7e208>"
      ]
     },
     "metadata": {},
     "output_type": "display_data"
    }
   ],
   "source": [
    "sns.boxplot(data=df, x=\"log_price\", y=\"fuelType\", orient=\"h\", palette=\"Set2\")"
   ]
  },
  {
   "cell_type": "code",
   "execution_count": 22,
   "metadata": {},
   "outputs": [
    {
     "data": {
      "text/plain": [
       "<matplotlib.axes._subplots.AxesSubplot at 0x1a1b8582b0>"
      ]
     },
     "execution_count": 22,
     "metadata": {},
     "output_type": "execute_result"
    },
    {
     "data": {
      "image/png": "[encoded data removed]",
      "text/plain": [
       "<matplotlib.figure.Figure at 0x1a1b83fb70>"
      ]
     },
     "metadata": {},
     "output_type": "display_data"
    }
   ],
   "source": [
    "sns.boxplot(data=df, x=\"log_price\", y=\"notRepairedDamage\", orient=\"h\", palette=\"Set2\")"
   ]
  },
  {
   "cell_type": "code",
   "execution_count": 23,
   "metadata": {},
   "outputs": [
    {
     "data": {
      "text/plain": [
       "<matplotlib.axes._subplots.AxesSubplot at 0x1a1ff0a240>"
      ]
     },
     "execution_count": 23,
     "metadata": {},
     "output_type": "execute_result"
    },
    {
     "data": {
      "image/png": "[encoded data removed]",
      "text/plain": [
       "<matplotlib.figure.Figure at 0x1a1ae2eb00>"
      ]
     },
     "metadata": {},
     "output_type": "display_data"
    }
   ],
   "source": [
    "# На части выборки проверим наличие зависимости от бренда\n",
    "sns.boxplot(data=df[:500], x=\"log_price\", y=\"brand\", orient=\"h\", palette=\"Set2\")"
   ]
  },
  {
   "cell_type": "code",
   "execution_count": 24,
   "metadata": {},
   "outputs": [
    {
     "data": {
      "text/plain": [
       "<matplotlib.axes._subplots.AxesSubplot at 0x1a20b78588>"
      ]
     },
     "execution_count": 24,
     "metadata": {},
     "output_type": "execute_result"
    },
    {
     "data": {
      "image/png": "[encoded data removed]",
      "text/plain": [
       "<matplotlib.figure.Figure at 0x1a1b98b2b0>"
      ]
     },
     "metadata": {},
     "output_type": "display_data"
    }
   ],
   "source": [
    "# На части выборки (на примере бренда toyota) проверим наличие зависимости стоимости от модели\n",
    "sns.boxplot(data=df[df.brand=='toyota'], x=\"log_price\", y=\"model\", orient=\"h\", palette=\"Set2\")"
   ]
  },
  {
   "cell_type": "markdown",
   "metadata": {},
   "source": [
    "Все рассмотренные выше признаки будем учитывать в обучении модели"
   ]
  },
  {
   "cell_type": "code",
   "execution_count": 25,
   "metadata": {},
   "outputs": [],
   "source": [
    "from sklearn.model_selection import train_test_split\n",
    "\n",
    "#Разделим выборку на тренировочную, тестовую и валидационную в отношении 3:1:1\n",
    "train, test = train_test_split(df, test_size=0.4, random_state=10)\n",
    "test, validation = train_test_split(test, test_size=0.5, random_state=10)"
   ]
  },
  {
   "cell_type": "code",
   "execution_count": null,
   "metadata": {},
   "outputs": [],
   "source": []
  }
 ],
 "metadata": {
  "kernelspec": {
   "display_name": "Python 3",
   "language": "python",
   "name": "python3"
  },
  "language_info": {
   "codemirror_mode": {
    "name": "ipython",
    "version": 3
   },
   "file_extension": ".py",
   "mimetype": "text/x-python",
   "name": "python",
   "nbconvert_exporter": "python",
   "pygments_lexer": "ipython3",
   "version": "3.8.5"
  }
 },
 "nbformat": 4,
 "nbformat_minor": 2
}
