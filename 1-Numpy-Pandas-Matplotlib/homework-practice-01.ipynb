{
 "cells": [
  {
   "cell_type": "markdown",
   "metadata": {},
   "source": [
    "# Машинное обучение, ФКН ВШЭ\n",
    "\n",
    "## Практическое задание 1\n",
    "\n",
    "### Общая информация\n",
    "Дата выдачи: 12.09.2020  \n",
    "\n",
    "Дедлайн: 23:59MSK 26.09.2020 (за каждый день просрочки снимается 1 балл)\n",
    "\n",
    " "
   ]
  },
  {
   "cell_type": "markdown",
   "metadata": {},
   "source": [
    "### О задании\n",
    "\n",
    "Задание состоит из трех разделов, посвященных работе  данными с помощью библиотек pandas, numpy и визуализации с помощью matplotlib. В каждом разделе вам предлагается выполнить несколько заданий. Баллы даются за выполнение отдельных пунктов. Задачи в рамках одного раздела рекомендуется решать в том порядке, в котором они даны в задании.\n",
    "\n",
    "Задание направлено на освоение jupyter notebook (будет использоваться в дальнейших заданиях), библиотекам numpy, pandas и matplotlib.\n"
   ]
  },
  {
   "cell_type": "markdown",
   "metadata": {},
   "source": [
    "## 0. Введение"
   ]
  },
  {
   "cell_type": "markdown",
   "metadata": {},
   "source": [
    "[Здесь](https://athena.brynmawr.edu/jupyter/hub/dblank/public/Jupyter%20Notebook%20Users%20Manual.ipynb) находится <s>не</s>большая заметка о используемом языке разметки Markdown. Он позволяет:\n",
    "\n",
    "0. Составлять упорядоченные списки\n",
    "1. #Делать \n",
    "##заголовки \n",
    "###разного уровня\n",
    "3. Выделять *текст* <s>при</s> **необходимости**\n",
    "4. Добавлять [ссылки](http://imgs.xkcd.com/comics/the_universal_label.png)\n",
    "\n",
    "\n",
    "* Составлять неупорядоченные списки\n",
    "\n",
    "Делать вставки с помощью LaTex:\n",
    "    \n",
    "$\n",
    "\\left\\{\n",
    "\\begin{array}{ll}\n",
    "x = 16 \\sin^3 (t) \\\\ \n",
    "y = 13 \\cos (t) - 5 \\cos (2t) - 2 \\cos (3t) - \\cos (4t) \\\\\n",
    "t \\in [0, 2 \\pi]\n",
    "\\end{array}\n",
    "\\right.$"
   ]
  },
  {
   "cell_type": "markdown",
   "metadata": {},
   "source": [
    "А ещё можно вставлять картинки:\n",
    "<img src=\"https://st2.depositphotos.com/1177973/9266/i/950/depositphotos_92668716-stock-photo-red-cat-with-computer-keyboard.jpg\" style=\"width: 400px\">"
   ]
  },
  {
   "cell_type": "markdown",
   "metadata": {},
   "source": [
    "## 1. Numpy"
   ]
  },
  {
   "cell_type": "markdown",
   "metadata": {},
   "source": [
    "В этом разделе все задачи необходимо решить с помощью векторизованных вычислений в numpy. Запрещается использовать циклы, рекурсии, map и прочие конструкции \"чистого\" python, обрабатывающие последовательности (кроме задачи 4, где нужно написать дополнительную функцию с циклами).\n",
    "\n",
    "\n",
    "Можно считать, что все указанные объекты непустые (к примеру, в задаче 1 на диагонали матрицы есть ненулевые элементы) и корректные.\n",
    "\n",
    "\n",
    "Для каждой задачи заполните тело соответствующей функции, и затем запустите ячейку ###test your code (она должна напечатать OK). Рекомендуем также протестировать функцию на других входах."
   ]
  },
  {
   "cell_type": "markdown",
   "metadata": {},
   "source": [
    "**Задача 1 (0.5 балла)**: Подсчитать произведение ненулевых элементов на диагонали прямоугольной матрицы.\n",
    "\n",
    "Например, для X = np.array([[1, 0, 1], [2, 0, 2], [3, 0, 3], [4, 4, 4]]) ответ – 3."
   ]
  },
  {
   "cell_type": "code",
   "execution_count": null,
   "metadata": {},
   "outputs": [],
   "source": [
    "import numpy as np\n",
    "\n",
    "def nonzero_prod(X):\n",
    "    return np.prod(np.setdiff1d(np.diagonal(X), 0))\n",
    "\n",
    "X = np.arange(20).reshape(4, 5)\n",
    "X[2, 2] = 0\n",
    "\n",
    "assert nonzero_prod(X) == 6 * 18\n",
    "print(\"OK\")"
   ]
  },
  {
   "cell_type": "markdown",
   "metadata": {},
   "source": [
    "**Задача 2 (0.5 балла)**: Найти максимальный элемент в векторе x среди элементов, перед которыми стоит нулевой.\n",
    "\n",
    "Например, для x = np.array([6, 2, 0, 3, 0, 0, 5, 7, 0]) ответ – 5."
   ]
  },
  {
   "cell_type": "code",
   "execution_count": null,
   "metadata": {},
   "outputs": [],
   "source": [
    "#2\n",
    "def max_after_zero(x):\n",
    "    zero_indexes = np.where(x == 0)\n",
    "    return max(x[np.setdiff1d(np.array([zero_indexes + np.ones(len(zero_indexes))], dtype = int), len(x))])\n",
    "\n",
    "x = np.array([0, 1, 2, 0, 6, 0, 10, 0])\n",
    "assert max_after_zero(x) == 10\n",
    "print(\"OK\")"
   ]
  },
  {
   "cell_type": "markdown",
   "metadata": {},
   "source": [
    "**Задача 3 (1.5 балл)**: Дан трёхмерный массив img, содержащий изображение, размера (height, width, numChannels), а также вектор weights длины numChannels. Сложить каналы изображения с указанными весами, и вернуть результат в виде матрицы размера (height, width).    \n",
    "    \n",
    "В ноутбуке приведите пример работы функции – преобразуйте цветное изображение в оттенки серого, использовав коэффициенты np.array([0.299, 0.587, 0.114]). Считать реальное изображение можно при помощи функции plt.imread (если изображение не в формате png, установите пакет pillow), а визуализировать - с помощью функции plt.imshow."
   ]
  },
  {
   "cell_type": "code",
   "execution_count": null,
   "metadata": {},
   "outputs": [],
   "source": [
    "#3 \n",
    "import cv2\n",
    "import numpy as np\n",
    "import matplotlib.pyplot as plt\n",
    "\n",
    "img = cv2.imread('Cat.jpg')\n",
    "k = ([0.299, 0.587, 0.114])\n",
    "sums = np.round(np.sum(img * k, axis=2)).astype(np.uint8)\n",
    "res = np.repeat(sums, 3).reshape(img.shape)"
   ]
  },
  {
   "cell_type": "code",
   "execution_count": null,
   "metadata": {},
   "outputs": [],
   "source": [
    "figure_size = 15\n",
    "plt.figure(figsize=(figure_size,figure_size))\n",
    "plt.subplot(1,2,1),plt.imshow(img)\n",
    "plt.title('Original image'), plt.xticks([]), plt.yticks([])\n",
    "plt.subplot(1,2,2),plt.imshow(res)\n",
    "plt.title('Result image after formatting'), plt.xticks([]), plt.yticks([])\n",
    "plt.show()"
   ]
  },
  {
   "cell_type": "code",
   "execution_count": null,
   "metadata": {},
   "outputs": [],
   "source": [
    "### your code here (transform and plot image)"
   ]
  },
  {
   "cell_type": "markdown",
   "metadata": {},
   "source": [
    "**Задача 4 (1.5 балл)**: Даны две выборки объектов - X и Y (с одинаковым числом столбцов, объекты расположены по строкам). Вычислить матрицу евклидовых расстояний между объектами.\n",
    "\n",
    "Для этой задачи реализуйте также функцию без использования numpy (с циклами). Сравните по скорости работы векторизованную версию с невекторизованной и с функцией scipy.spatial.distance.cdist на случайно сгенерированных матрицах размера 100 x 1000 (сравнения приведите ниже в ноутбуке)."
   ]
  },
  {
   "cell_type": "code",
   "execution_count": null,
   "metadata": {},
   "outputs": [],
   "source": [
    "#4\n",
    "from scipy.spatial.distance import cdist\n",
    "\n",
    "def cdist_numpy(X, Y):\n",
    "    return np.sqrt(((X[:, np.newaxis] - Y)**2).sum(axis = 2))\n",
    "    \n",
    "def cdist_python(X, Y):\n",
    "    a = np.array([[]])\n",
    "\n",
    "    for i in range(np.shape(X)[0]):\n",
    "        for j in range(np.shape(Y)[0]):\n",
    "            dist = np.sqrt(((X[i, :] - Y[j, :])**2).sum(axis = 0))\n",
    "            a = np.append(a, dist)\n",
    "            \n",
    "    return a.reshape(np.shape(X)[0], np.shape(Y)[0])\n",
    "    \n",
    "X = np.arange(12).reshape(4, 3)\n",
    "Y = np.arange(1, 16).reshape(5, 3)\n",
    "assert np.allclose(cdist(X, Y), cdist_numpy(X, Y))\n",
    "assert np.allclose(cdist(X, Y), cdist_python(X, Y))\n",
    "print(\"OK\")"
   ]
  },
  {
   "cell_type": "code",
   "execution_count": null,
   "metadata": {},
   "outputs": [],
   "source": [
    "# Измерим время работы функций:\n",
    "import time\n",
    "\n",
    "X = np.random.randint(0, 100, 100*1000).reshape(100, 1000)\n",
    "Y = np.random.randint(0, 100, 100*1000).reshape(100, 1000)\n",
    "\n",
    "start_time = time.time()\n",
    "cdist(X, Y)\n",
    "print(\"--- %s seconds for cdist ---\" % (time.time() - start_time))\n",
    "\n",
    "start_time = time.time()\n",
    "cdist_numpy(X, Y)\n",
    "print(\"--- %s seconds for cdist_numpy ---\" % (time.time() - start_time))\n",
    "\n",
    "start_time = time.time()\n",
    "cdist_python(X, Y)\n",
    "print(\"--- %s seconds for cdist_python ---\" % (time.time() - start_time))"
   ]
  },
  {
   "cell_type": "markdown",
   "metadata": {},
   "source": [
    "Самой быстрой оказалась cdist от scipy, на 2м месте - cdist_numpy, на 3м - cdist_python"
   ]
  },
  {
   "cell_type": "markdown",
   "metadata": {},
   "source": [
    "## 2. Табличные данные и Pandas"
   ]
  },
  {
   "cell_type": "markdown",
   "metadata": {},
   "source": [
    "Pandas — удобная библиотека для работы с табличными данными в Python, если данных не слишком много и они помещаются в оперативную память вашего компьютера. Несмотря на неэффективность реализации и некоторые проблемы, библиотека стала стандартом в анализе данных. С этой библиотекой мы сейчас и познакомимся.\n",
    "\n",
    "Основной объект в pandas это DataFrame, представляющий собой таблицу с именованными колонками различных типов, индексом (может быть многоуровневым). DataFrame можно создавать, считывая таблицу из файла или задавая вручную из других объектов.\n",
    "\n",
    "В этой части потребуется выполнить несколько небольших заданий. Можно пойти двумя путями: сначала изучить материалы, а потом приступить к заданиям, или же разбираться \"по ходу\". Выбирайте сами.\n",
    "\n",
    "Материалы:\n",
    "1. [Pandas за 10 минут из официального руководства](http://pandas.pydata.org/pandas-docs/stable/10min.html)\n",
    "2. [Документация](http://pandas.pydata.org/pandas-docs/stable/index.html) (стоит обращаться, если не понятно, как вызывать конкретный метод)\n",
    "3. [Примеры использования функционала](http://nbviewer.jupyter.org/github/justmarkham/pandas-videos/blob/master/pandas.ipynb)\n",
    "\n",
    "Многие из заданий можно выполнить несколькими способами. Не существуют единственно верного, но попробуйте максимально задействовать арсенал pandas и ориентируйтесь на простоту и понятность вашего кода. Мы не будем подсказывать, что нужно использовать для решения конкретной задачи, попробуйте находить необходимый функционал сами (название метода чаще всего очевидно). В помощь вам документация, поиск и stackoverflow."
   ]
  },
  {
   "cell_type": "code",
   "execution_count": null,
   "metadata": {},
   "outputs": [],
   "source": [
    "%pylab inline  \n",
    "# import almost all we need\n",
    "import pandas as pd"
   ]
  },
  {
   "cell_type": "markdown",
   "metadata": {},
   "source": [
    "Данные можно скачать [отсюда](https://www.dropbox.com/s/5qq94wzmbw4e54r/data.csv?dl=0)."
   ]
  },
  {
   "cell_type": "markdown",
   "metadata": {},
   "source": [
    "#### 1. [0.25 баллов] Откройте файл с таблицей (не забудьте про её формат). Выведите последние 10 строк.\n",
    "\n",
    "Посмотрите на данные и скажите, что они из себя представляют, сколько в таблице строк, какие столбцы?"
   ]
  },
  {
   "cell_type": "code",
   "execution_count": null,
   "metadata": {},
   "outputs": [],
   "source": [
    "#1\n",
    "df = pd.read_csv('data.csv')\n",
    "df[-10:]"
   ]
  },
  {
   "cell_type": "markdown",
   "metadata": {},
   "source": [
    "В таблице 4622 строки и 5 столбцов: order_id, quantity, item_name, choice_description и item_price"
   ]
  },
  {
   "cell_type": "markdown",
   "metadata": {},
   "source": [
    "#### 2. [0.25 баллов] Ответьте на вопросы:\n",
    "1. Сколько заказов попало в выборку?\n",
    "2. Сколько уникальных категорий товара было куплено? (item_name)"
   ]
  },
  {
   "cell_type": "code",
   "execution_count": null,
   "metadata": {},
   "outputs": [],
   "source": [
    "#2\n",
    "print('Число заказов =', len(df.order_id.unique()))\n",
    "print('Число уникальных категорий товара =', len(df.item_name.unique()))"
   ]
  },
  {
   "cell_type": "markdown",
   "metadata": {},
   "source": [
    "#### 3. [0.25 баллов] Есть ли в данных пропуски? В каких колонках? "
   ]
  },
  {
   "cell_type": "code",
   "execution_count": null,
   "metadata": {},
   "outputs": [],
   "source": [
    "#3\n",
    "df[pd.isnull(df.choice_description) == True].head()"
   ]
  },
  {
   "cell_type": "markdown",
   "metadata": {},
   "source": [
    "Обнаружены пропуски в столбце choice_description\n",
    "\n",
    "Т.к. пропуски имеются лишь в строковой колонке choice_description, то заполним их следующим образом:"
   ]
  },
  {
   "cell_type": "code",
   "execution_count": null,
   "metadata": {},
   "outputs": [],
   "source": [
    "df = df.fillna('')\n",
    "df.head()"
   ]
  },
  {
   "cell_type": "markdown",
   "metadata": {},
   "source": [
    "#### 4. [0.5 баллов] Посмотрите внимательнее на колонку с ценой товара. Какого она типа? Создайте новую колонку так, чтобы в ней цена была числом.\n",
    "\n",
    "Для этого попробуйте применить функцию-преобразование к каждой строке вашей таблицы (для этого есть соответствующая функция)."
   ]
  },
  {
   "cell_type": "code",
   "execution_count": null,
   "metadata": {},
   "outputs": [],
   "source": [
    "#4 \n",
    "# Цена у товара изначально была строкового типа, преобразуем ее в числовой:\n",
    "\n",
    "df['new_item_price'] = df.item_price.str.split('$', expand = True)[[1]].astype('double')\n",
    "df.head()"
   ]
  },
  {
   "cell_type": "markdown",
   "metadata": {},
   "source": [
    "Какая средняя/минимальная/максимальная цена у товара? "
   ]
  },
  {
   "cell_type": "code",
   "execution_count": null,
   "metadata": {},
   "outputs": [],
   "source": [
    "print('Средняя цена товара =', df.new_item_price.mean())\n",
    "print('Минимальная цена товара =', df.new_item_price.min())\n",
    "print('Максимальная цена товара =', df.new_item_price.max())"
   ]
  },
  {
   "cell_type": "markdown",
   "metadata": {},
   "source": [
    "Удалите старую колонку с ценой."
   ]
  },
  {
   "cell_type": "code",
   "execution_count": null,
   "metadata": {},
   "outputs": [],
   "source": [
    "df = df.drop(columns = 'item_price')\n",
    "df.head()"
   ]
  },
  {
   "cell_type": "markdown",
   "metadata": {},
   "source": [
    "#### 5. [0.25 баллов] Какие 5 товаров были самыми дешёвыми и самыми дорогими? (по choice_description)\n",
    "\n",
    "Для этого будет удобно избавиться от дубликатов и отсортировать товары. Не забудьте про количество товара."
   ]
  },
  {
   "cell_type": "code",
   "execution_count": null,
   "metadata": {},
   "outputs": [],
   "source": [
    "#5\n",
    "# Создадим новый столбец, равен стоимости единицы товара:\n",
    "df['item_cost'] = df.new_item_price/df.quantity"
   ]
  },
  {
   "cell_type": "code",
   "execution_count": null,
   "metadata": {},
   "outputs": [],
   "source": [
    "# Самые дешевые товары по item_name:\n",
    "df[['item_name','item_cost']].groupby('item_name').min().nsmallest(5, 'item_cost')"
   ]
  },
  {
   "cell_type": "code",
   "execution_count": null,
   "metadata": {},
   "outputs": [],
   "source": [
    "# Самые дешевые товары по choice_description:\n",
    "df[['item_name','choice_description','item_cost']].groupby('choice_description').min().nsmallest(5, 'item_cost')\n"
   ]
  },
  {
   "cell_type": "code",
   "execution_count": null,
   "metadata": {},
   "outputs": [],
   "source": [
    "# Самые дорогие товары:\n",
    "df[['item_name','item_cost']].groupby('item_name').max().nlargest(5, 'item_cost')"
   ]
  },
  {
   "cell_type": "markdown",
   "metadata": {},
   "source": [
    "#### 6. [0.5 баллов] Сколько раз клиенты покупали больше 1 Chicken Bowl (item_name)?"
   ]
  },
  {
   "cell_type": "code",
   "execution_count": null,
   "metadata": {},
   "outputs": [],
   "source": [
    "#6 \n",
    "# Сколько раз клиенты покупали больше 1 Chicken Bowl:\n",
    "len(df[df.quantity > 1][df.item_name == 'Chicken Bowl'])"
   ]
  },
  {
   "cell_type": "markdown",
   "metadata": {},
   "source": [
    "#### 7. [0.5 баллов] Какой средний чек у заказа? Сколько в среднем товаров покупают?\n",
    "\n",
    "Если необходимо провести вычисления в терминах заказов, то будет удобно сгруппировать строки по заказам и посчитать необходимые статистики."
   ]
  },
  {
   "cell_type": "code",
   "execution_count": null,
   "metadata": {},
   "outputs": [],
   "source": [
    "#7\n",
    "new_df = df.groupby(['order_id']).sum()\n",
    "print('Средний чек у заказа =', (new_df.quantity).mean())\n",
    "print('Среднее число купленных товаров =', (new_df.new_item_price).mean())"
   ]
  },
  {
   "cell_type": "markdown",
   "metadata": {},
   "source": [
    "#### 8. [0.25 баллов] Сколько заказов содержали ровно 1 товар?"
   ]
  },
  {
   "cell_type": "code",
   "execution_count": null,
   "metadata": {},
   "outputs": [],
   "source": [
    "#8 \n",
    "# Берем new_df из предыдущего расчета и считаем число заказов, \n",
    "# которые содержали ровно 1 товар:\n",
    "len(new_df[new_df.quantity == 1])"
   ]
  },
  {
   "cell_type": "markdown",
   "metadata": {},
   "source": [
    "#### 9. [0.25 баллов] Какая самая популярная категория товара? "
   ]
  },
  {
   "cell_type": "code",
   "execution_count": null,
   "metadata": {},
   "outputs": [],
   "source": [
    "#9\n",
    "# Cамая популярная категория товара:\n",
    "df.groupby(['item_name']).sum().nlargest(1, 'quantity')"
   ]
  },
  {
   "cell_type": "markdown",
   "metadata": {},
   "source": [
    "#### 10. [0.25 баллов] Какие виды Burrito существуют? Какой из них чаще всего покупают? Какой из них самый дорогой? "
   ]
  },
  {
   "cell_type": "code",
   "execution_count": null,
   "metadata": {},
   "outputs": [],
   "source": [
    "#10\n",
    "# Виды Бурито:\n",
    "df[df['item_name'].str.contains('Burrito')].item_name.unique()"
   ]
  },
  {
   "cell_type": "code",
   "execution_count": null,
   "metadata": {},
   "outputs": [],
   "source": [
    "# Самый популярный бурито - Chicken Burrito:\n",
    "df[['item_name','quantity']][df['item_name'].str.contains('Burrito')].groupby('item_name').sum().nlargest(1, 'quantity')"
   ]
  },
  {
   "cell_type": "code",
   "execution_count": null,
   "metadata": {},
   "outputs": [],
   "source": [
    "# Самые дорогие бурито: Barbacoa, Carnitas и Steak \n",
    "# У трех из Бурито была обнаружена наибольшая ст-ть в заказах\n",
    "df[df['item_name'].str.contains('Burrito')].groupby('item_name').max().nlargest(3, 'item_cost')"
   ]
  },
  {
   "cell_type": "code",
   "execution_count": null,
   "metadata": {},
   "outputs": [],
   "source": [
    "# Самый дорогой\n",
    "# Однако в среднем дороже всех оказался Steak Burrito\n",
    "df[['item_name','item_cost']][df['item_name'].str.contains('Burrito')].groupby('item_name').mean().nlargest(3, 'item_cost')\n"
   ]
  },
  {
   "cell_type": "markdown",
   "metadata": {
    "collapsed": true
   },
   "source": [
    "#### 11. [0.25 баллов] В каком количестве заказов есть товар, который стоит более 40% от суммы всего чека?\n",
    "\n",
    "Возможно, будет удобно посчитать отдельно средний чек, добавить его в исходные данные и сделать необходимые проверки."
   ]
  },
  {
   "cell_type": "code",
   "execution_count": null,
   "metadata": {},
   "outputs": [],
   "source": [
    "#11 \n",
    "# 1) Добавим поле с суммой заказа\n",
    "df['order_sum'] = df.groupby(by=['order_id']).new_item_price.transform(lambda s: np.sum(s.values))\n",
    "df.head()"
   ]
  },
  {
   "cell_type": "code",
   "execution_count": null,
   "metadata": {},
   "outputs": [],
   "source": [
    "# Выведем заказы, для которых единица товара составляет более 40% от чека\n",
    "df[df.item_cost/df.order_sum > 0.4].head()"
   ]
  },
  {
   "cell_type": "code",
   "execution_count": null,
   "metadata": {},
   "outputs": [],
   "source": [
    "# Посчитаем их количество:\n",
    "len(df[df.item_cost/df.order_sum > 0.4].order_id.unique())"
   ]
  },
  {
   "cell_type": "markdown",
   "metadata": {},
   "source": [
    "#### 12. [0.25 баллов] Предположим, что в данных была ошибка и Diet Coke (choice_description), который стоил $1.25, должен был стоить 1.35. Скорректируйте данные в таблицы и посчитайте, на какой процент больше денег было заработано с этого товара. Не забывайте, что количество товара не всегда равно 1."
   ]
  },
  {
   "cell_type": "code",
   "execution_count": null,
   "metadata": {},
   "outputs": [],
   "source": [
    "#12 \n",
    "# Создаем таблицу df2 с обновленным значением цены для Diet Coke:\n",
    "df2 = df.copy()\n",
    "df2.loc[(df2.choice_description.str.contains('Diet Coke')) & (df2.item_cost == 1.25), 'item_cost'] = 1.35\n",
    "df2['new_item_price'] = df2.item_cost * df2.quantity\n",
    "df2[df2.choice_description.str.contains('Diet Coke')]\n"
   ]
  },
  {
   "cell_type": "code",
   "execution_count": null,
   "metadata": {},
   "outputs": [],
   "source": [
    "# Посчитаем процент, на который удалось больше заработать:\n",
    "a = sum(df[df.choice_description.str.contains('Diet Coke')].new_item_price)\n",
    "b = sum(df2[df2.choice_description.str.contains('Diet Coke')].new_item_price)\n",
    "print(100*(b-a)/a,'%')"
   ]
  },
  {
   "cell_type": "markdown",
   "metadata": {},
   "source": [
    "#### 13. [0.25 баллов] Создайте новый DateFrame из матрицы, созданной ниже. Назовите колонки index, column1, column2 и сделайте первую колонку индексом."
   ]
  },
  {
   "cell_type": "code",
   "execution_count": null,
   "metadata": {},
   "outputs": [],
   "source": [
    "#13\n",
    "# Создадим новый DateFrame из матрицы, созданной ниже;\n",
    "# назовем колонки как index, column1, column2;\n",
    "# сделаем первую колонку индексом:\n",
    "data = np.random.rand(10, 3)\n",
    "data_df = pd.DataFrame(data, columns=['index', 'column1', 'column2']).set_index(['index'])\n",
    "data_df"
   ]
  },
  {
   "cell_type": "markdown",
   "metadata": {},
   "source": [
    "Сохраните DataFrame на диск в формате csv без индексов и названий столбцов."
   ]
  },
  {
   "cell_type": "code",
   "execution_count": null,
   "metadata": {},
   "outputs": [],
   "source": [
    "# Сохраним файл без индексов и названий столбцов\n",
    "data_df.to_csv('data_df.csv', header=False, index=False)"
   ]
  },
  {
   "cell_type": "markdown",
   "metadata": {},
   "source": [
    "## 3. Визуализации и matplotlib"
   ]
  },
  {
   "cell_type": "markdown",
   "metadata": {},
   "source": [
    "При работе с данными часто неудобно делать какие-то выводы, если смотреть на таблицу и числа в частности, поэтому важно уметь визуализировать данные. В этом разделе мы этим и займёмся.\n",
    "\n",
    "У matplotlib, конечно, же есть [документация](https://matplotlib.org/users/index.html) с большим количеством [примеров](https://matplotlib.org/examples/), но для начала достаточно знать про несколько основных типов графиков:\n",
    "- plot — обычный поточечный график, которым можно изображать кривые или отдельные точки;\n",
    "- hist — гистограмма, показывающая распределение некоторое величины;\n",
    "- scatter — график, показывающий взаимосвязь двух величин;\n",
    "- bar — столбцовый график, показывающий взаимосвязь количественной величины от категориальной.\n",
    "\n",
    "В этом задании вы попробуете построить каждый из них. Не менее важно усвоить базовые принципы визуализаций:\n",
    "- на графиках должны быть подписаны оси;\n",
    "- у визуализации должно быть название;\n",
    "- если изображено несколько графиков, то необходима поясняющая легенда;\n",
    "- все линии на графиках должны быть чётко видны (нет похожих цветов или цветов, сливающихся с фоном);\n",
    "- если отображена величина, имеющая очевидный диапазон значений (например, проценты могут быть от 0 до 100), то желательно масштабировать ось на весь диапазон значений (исключением является случай, когда вам необходимо показать малое отличие, которое незаметно в таких масштабах).\n",
    "- сетка на графике помогает оценить значения в точках на глаз, это обычно полезно, поэтому лучше ее отрисовывать."
   ]
  },
  {
   "cell_type": "code",
   "execution_count": null,
   "metadata": {},
   "outputs": [],
   "source": [
    "%matplotlib inline\n",
    "import matplotlib.pyplot as plt\n",
    "import seaborn as sns"
   ]
  },
  {
   "cell_type": "markdown",
   "metadata": {},
   "source": [
    "На самом деле мы уже импортировали matplotlib внутри %pylab inline в начале задания.\n",
    "\n",
    "Работать мы будем с той же выборкой покупкок. Добавим новую колонку с датой покупки."
   ]
  },
  {
   "cell_type": "code",
   "execution_count": null,
   "metadata": {},
   "outputs": [],
   "source": [
    "import datetime, random\n",
    "\n",
    "start = datetime.datetime(2018, 1, 1)\n",
    "end = datetime.datetime(2018, 1, 31)\n",
    "delta_seconds = int((end - start).total_seconds())\n",
    "\n",
    "dates = pd.DataFrame(index=df.order_id.unique())\n",
    "dates['date'] = [\n",
    "    (start + datetime.timedelta(seconds=random.randint(0, delta_seconds))).strftime('%Y-%m-%d')\n",
    "    for _ in range(df.order_id.nunique())]\n",
    "\n",
    "# если DataFrame с покупками из прошлого заказа называется не df, замените на ваше название ниже\n",
    "df['date'] = df.order_id.map(dates['date'])"
   ]
  },
  {
   "cell_type": "markdown",
   "metadata": {},
   "source": [
    "#### 1. [0.5 баллов] Постройте гистограмму распределения сумм покупок и гистограмму средних цен отдельных видов продуктов item_name. \n",
    "\n",
    "Изображайте на двух соседних графиках. Для этого может быть полезен subplot."
   ]
  },
  {
   "cell_type": "code",
   "execution_count": null,
   "metadata": {},
   "outputs": [],
   "source": [
    "#1\n",
    "fig, ax = plt.subplots(1, 2, figsize=(10, 5))#, tight_layout=True)\n",
    "ax1 = sns.distplot(df.order_sum, ax=ax[0])\n",
    "ax1.set_title('Распределение суммы покупок')\n",
    "ax2 = sns.distplot(df[['item_name','item_cost']].groupby('item_name').mean().item_cost, ax=ax[1])\n",
    "ax2.set_title('Распределение средней цены товара')\n"
   ]
  },
  {
   "cell_type": "markdown",
   "metadata": {},
   "source": [
    "#### 2. [0.5 баллов] Постройте график зависимости суммы покупок от дней."
   ]
  },
  {
   "cell_type": "code",
   "execution_count": null,
   "metadata": {},
   "outputs": [],
   "source": [
    "#2 \n",
    "# Год и месяц выводить не обязательно, т.к. все заказы идут за январь 2018го года\n",
    "def get_day(date):\n",
    "    return date.split('-')[2]\n",
    "\n",
    "sums_df = df[['new_item_price','date']].groupby('date', as_index=False).sum()\n",
    "\n",
    "plt.figure(figsize=(10, 4))\n",
    "plt.plot(sums_df.date.apply(get_day), sums_df.new_item_price)\n",
    "plt.title('Зависимость суммы покупок от дня')"
   ]
  },
  {
   "cell_type": "markdown",
   "metadata": {},
   "source": [
    "#### 3. [0,5 баллов] Постройте средних сумм покупок по дням недели (bar plot)."
   ]
  },
  {
   "cell_type": "code",
   "execution_count": null,
   "metadata": {},
   "outputs": [],
   "source": [
    "#3\n",
    "# Создадим новый столбец - день недели\n",
    "def get_dayofweek(date):\n",
    "    return pd.Timestamp(date).strftime(\"%A\") #weekday_name\n",
    "\n",
    "df['dayofweek'] = df['date'].apply(get_dayofweek)\n",
    "\n",
    "# Создадим новую таблицу, сгрупировав необходимые поля по заказам\n",
    "new_table = pd.DataFrame([])\n",
    "new_table['dayofweek'] = df.groupby('order_id').max().dayofweek\n",
    "new_table['order_sum'] = df.groupby('order_id').sum().new_item_price\n",
    "\n",
    "#Нарисуем график\n",
    "plt.figure(figsize=(8, 5))\n",
    "sns.barplot(\n",
    "    x=new_table.dayofweek, \n",
    "    y=new_table.order_sum, \n",
    "    data=new_table, \n",
    "    order=['Monday', 'Tuesday', 'Wednesday', 'Thursday', 'Friday', 'Saturday', 'Sunday'],\n",
    "    palette=\"Blues_d\"\n",
    ")\n",
    "plt.title('Распределение средних сумм покупок по дням недели')"
   ]
  },
  {
   "cell_type": "markdown",
   "metadata": {},
   "source": [
    "#### 4. [0.5 баллов] Постройте график зависимости денег за товар от купленного количества (scatter plot)."
   ]
  },
  {
   "cell_type": "markdown",
   "metadata": {},
   "source": [
    "Сохраните график в формате pdf (так он останется векторизованным)."
   ]
  },
  {
   "cell_type": "code",
   "execution_count": null,
   "metadata": {},
   "outputs": [],
   "source": [
    "#4\n",
    "plt.figure(figsize=(8, 4))\n",
    "sns.scatterplot(data=df, x=df.quantity, y=df.new_item_price)\n",
    "plt.title('Зависимоcть денег за товар от купленного количества')\n",
    "\n",
    "# Сохраним полученный график\n",
    "plt.savefig('plot.pdf')"
   ]
  }
 ],
 "metadata": {
  "kernel_info": {
   "name": "py36"
  },
  "kernelspec": {
   "display_name": "Python 3",
   "language": "python",
   "name": "python3"
  },
  "language_info": {
   "codemirror_mode": {
    "name": "ipython",
    "version": 3
   },
   "file_extension": ".py",
   "mimetype": "text/x-python",
   "name": "python",
   "nbconvert_exporter": "python",
   "pygments_lexer": "ipython3",
   "version": "3.8.5"
  },
  "nteract": {
   "version": "0.11.6"
  }
 },
 "nbformat": 4,
 "nbformat_minor": 2
}
